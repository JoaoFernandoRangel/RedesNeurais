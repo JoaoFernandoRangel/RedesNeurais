{
 "cells": [
  {
   "cell_type": "code",
   "execution_count": null,
   "id": "f91b4c5c",
   "metadata": {},
   "outputs": [],
   "source": [
    "import numpy as np\n",
    "#Comentário para commit\n",
    "\n",
    "class Neuron:\n",
    "    def __init__(self, n_inputs, weights=None, bias=None):\n",
    "        # Se não passar pesos/bias, gera aleatórios\n",
    "        self.weights = (\n",
    "            np.array(weights) if weights is not None else np.random.randn(n_inputs)\n",
    "        )\n",
    "        self.bias = bias if bias is not None else np.random.randn()\n",
    "\n",
    "    def activate(self, x):\n",
    "        return np.tanh(x)\n",
    "\n",
    "    def forward(self, inputs):\n",
    "        z = np.dot(self.weights, inputs) + self.bias\n",
    "        return self.activate(z)\n",
    "\n",
    "\n",
    "class Layer:\n",
    "    def __init__(self, n_neurons, n_inputs_per_neuron, weights=None, biases=None):\n",
    "        \"\"\"\n",
    "        n_neurons: quantidade de neurônios na camada\n",
    "        n_inputs_per_neuron: entradas por neurônio\n",
    "        weights: lista de arrays (um para cada neurônio)\n",
    "        biases: lista de valores (um para cada neurônio)\n",
    "        \"\"\"\n",
    "        self.neurons = []\n",
    "        for i in range(n_neurons):\n",
    "            w = weights[i] if weights is not None else None\n",
    "            b = biases[i] if biases is not None else None\n",
    "            self.neurons.append(Neuron(n_inputs_per_neuron, w, b))\n",
    "\n",
    "    def forward(self, inputs):\n",
    "        return np.array([neuron.forward(inputs) for neuron in self.neurons])\n",
    "\n",
    "\n",
    "class MLP:\n",
    "    def __init__(self, n_inputs, hidden_layers, n_outputs, weights=None, biases=None):\n",
    "        \"\"\"\n",
    "        n_inputs: nº de entradas\n",
    "        hidden_layers: lista com nº de neurônios por camada oculta (ex: [4,3])\n",
    "        n_outputs: nº de saídas\n",
    "        weights: lista de listas de pesos (por camada)\n",
    "        biases: lista de listas de biases (por camada)\n",
    "        \"\"\"\n",
    "        self.layers = []\n",
    "        prev_neurons = n_inputs\n",
    "\n",
    "        # Cria camadas ocultas\n",
    "        for i, n_neurons in enumerate(hidden_layers):\n",
    "            w = weights[i] if weights is not None else None\n",
    "            b = biases[i] if biases is not None else None\n",
    "            self.layers.append(Layer(n_neurons, prev_neurons, w, b))\n",
    "            prev_neurons = n_neurons\n",
    "\n",
    "        # Camada de saída\n",
    "        w = weights[len(hidden_layers)] if weights is not None else None\n",
    "        b = biases[len(hidden_layers)] if biases is not None else None\n",
    "        self.layers.append(Layer(n_outputs, prev_neurons, w, b))\n",
    "\n",
    "    def forward(self, x):\n",
    "        out = x\n",
    "        for layer in self.layers:\n",
    "            out = layer.forward(out)\n",
    "        return out"
   ]
  },
  {
   "cell_type": "code",
   "execution_count": 14,
   "id": "5332693a",
   "metadata": {},
   "outputs": [
    {
     "name": "stdout",
     "output_type": "stream",
     "text": [
      "Entrada: [ 1. -1. 10.]\n",
      "Saída: [0.67472328]\n"
     ]
    }
   ],
   "source": [
    "# Exemplo: 3 entradas, 1 camada oculta com 2 neurônios, 1 saída\n",
    "weights = [\n",
    "    [  # camada oculta (2 neurônios, cada um com 3 pesos)\n",
    "        [0.5, -0.3, 0.1],\n",
    "        [0.2, 0.6, -0.5],\n",
    "    ],\n",
    "    [[0.7, -0.1]],  # camada de saída (1 neurônio, 2 entradas da camada oculta)\n",
    "]\n",
    "\n",
    "biases = [\n",
    "    [0.1, -0.2],  # biases da camada oculta\n",
    "    [0.05],  # bias da camada de saída\n",
    "]\n",
    "\n",
    "mlp = MLP(n_inputs=3, hidden_layers=[2], n_outputs=1, weights=weights, biases=biases)\n",
    "\n",
    "x = np.array([1.0, -1.0, 10])\n",
    "y = mlp.forward(x)\n",
    "\n",
    "print(\"Entrada:\", x)\n",
    "print(\"Saída:\", y)"
   ]
  }
 ],
 "metadata": {
  "kernelspec": {
   "display_name": "Python 3",
   "language": "python",
   "name": "python3"
  },
  "language_info": {
   "codemirror_mode": {
    "name": "ipython",
    "version": 3
   },
   "file_extension": ".py",
   "mimetype": "text/x-python",
   "name": "python",
   "nbconvert_exporter": "python",
   "pygments_lexer": "ipython3",
   "version": "3.12.3"
  }
 },
 "nbformat": 4,
 "nbformat_minor": 5
}
